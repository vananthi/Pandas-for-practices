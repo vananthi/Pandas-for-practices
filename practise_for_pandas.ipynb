{
  "nbformat": 4,
  "nbformat_minor": 0,
  "metadata": {
    "colab": {
      "provenance": [],
      "authorship_tag": "ABX9TyO9X/IA8jRtE/jxL2mdJyX4",
      "include_colab_link": true
    },
    "kernelspec": {
      "name": "python3",
      "display_name": "Python 3"
    },
    "language_info": {
      "name": "python"
    }
  },
  "cells": [
    {
      "cell_type": "markdown",
      "metadata": {
        "id": "view-in-github",
        "colab_type": "text"
      },
      "source": [
        "<a href=\"https://colab.research.google.com/github/vananthi/Pandas-for-practices/blob/main/practise_for_pandas.ipynb\" target=\"_parent\"><img src=\"https://colab.research.google.com/assets/colab-badge.svg\" alt=\"Open In Colab\"/></a>"
      ]
    },
    {
      "cell_type": "code",
      "execution_count": null,
      "metadata": {
        "id": "jPOR6tcV5TKH",
        "colab": {
          "base_uri": "https://localhost:8080/"
        },
        "outputId": "e22c360f-f976-48be-cf06-e70ff4e3a9f2"
      },
      "outputs": [
        {
          "output_type": "stream",
          "name": "stdout",
          "text": [
            "      cars  passangers\n",
            "0      BMW           3\n",
            "1    SHIFT           4\n",
            "2  JOKUVAR           5\n"
          ]
        }
      ],
      "source": [
        "# to crate data frame\n",
        "import pandas as pd\n",
        "Mydata={\n",
        "    'cars':['BMW','SHIFT','JOKUVAR'],\n",
        "    'passangers':[3,4,5]\n",
        "}\n",
        "Myvar=pd.DataFrame(Mydata)\n",
        "print(Myvar)"
      ]
    },
    {
      "cell_type": "code",
      "source": [
        "#to find the version of pandas\n",
        "import pandas as pd\n",
        "print(pd.__version__)\n"
      ],
      "metadata": {
        "colab": {
          "base_uri": "https://localhost:8080/"
        },
        "id": "PGSg0XxBWr1b",
        "outputId": "068370fd-3fed-44ed-d090-a115621b5a97"
      },
      "execution_count": null,
      "outputs": [
        {
          "output_type": "stream",
          "name": "stdout",
          "text": [
            "1.5.3\n"
          ]
        }
      ]
    },
    {
      "cell_type": "code",
      "source": [
        "# to find series\n",
        "import pandas as pd\n",
        "a=[1,4,5,6]\n",
        "myvar=pd.Series(a)\n",
        "print(myvar)"
      ],
      "metadata": {
        "colab": {
          "base_uri": "https://localhost:8080/"
        },
        "id": "uXpDR85MXgbm",
        "outputId": "82e6f58f-1e32-481c-820b-a655ca2b4d9c"
      },
      "execution_count": null,
      "outputs": [
        {
          "output_type": "stream",
          "name": "stdout",
          "text": [
            "0    1\n",
            "1    4\n",
            "2    5\n",
            "3    6\n",
            "dtype: int64\n"
          ]
        }
      ]
    },
    {
      "cell_type": "code",
      "source": [
        "# to find the index\n",
        "import pandas as pd\n",
        "a=[3,4,5,6]\n",
        "myvar = pd.Series(a,index=['w','x','y','z'])\n",
        "print(myvar)"
      ],
      "metadata": {
        "colab": {
          "base_uri": "https://localhost:8080/"
        },
        "id": "EpLRJfGxY1Id",
        "outputId": "ce5eb947-780a-43de-ba5f-20418f20dda5"
      },
      "execution_count": null,
      "outputs": [
        {
          "output_type": "stream",
          "name": "stdout",
          "text": [
            "w    3\n",
            "x    4\n",
            "y    5\n",
            "z    6\n",
            "dtype: int64\n"
          ]
        }
      ]
    },
    {
      "cell_type": "code",
      "source": [
        "print(myvar[0])"
      ],
      "metadata": {
        "colab": {
          "base_uri": "https://localhost:8080/"
        },
        "id": "rkbek4nqaLwU",
        "outputId": "965ab56f-8f48-4e39-eeff-f0614bcd873f"
      },
      "execution_count": null,
      "outputs": [
        {
          "output_type": "stream",
          "name": "stdout",
          "text": [
            "3\n"
          ]
        }
      ]
    },
    {
      "cell_type": "code",
      "source": [
        "#return the value of 'y'\n",
        "print(myvar['y'])"
      ],
      "metadata": {
        "colab": {
          "base_uri": "https://localhost:8080/"
        },
        "id": "1p-sddiuaY7z",
        "outputId": "2ebabe1b-dcc1-452d-c63a-d7f1bd620b9c"
      },
      "execution_count": null,
      "outputs": [
        {
          "output_type": "stream",
          "name": "stdout",
          "text": [
            "5\n"
          ]
        }
      ]
    },
    {
      "cell_type": "code",
      "source": [
        "#Create a simple Pandas Series from a dictionary:Key/Value Objects as Series\n",
        "import pandas as pd\n",
        "colories={'day1':100,'day2':200,'day3':300}\n",
        "myvar=pd.Series(colories)\n",
        "print(myvar)"
      ],
      "metadata": {
        "colab": {
          "base_uri": "https://localhost:8080/"
        },
        "id": "uTRtZqBqbQ7p",
        "outputId": "1d75e147-0a9c-4fb7-ac0c-df6cfe960603"
      },
      "execution_count": null,
      "outputs": [
        {
          "output_type": "stream",
          "name": "stdout",
          "text": [
            "day1    100\n",
            "day2    200\n",
            "day3    300\n",
            "dtype: int64\n"
          ]
        }
      ]
    },
    {
      "cell_type": "code",
      "source": [
        "#Create a Series using only data from \"day1\" and \"day2\":\n",
        "import pandas as pd\n",
        "calories={'day1':100,'day2':200,'day3':300}\n",
        "myvar=pd.Series(calories,index=['day1','day2'])\n",
        "print(myvar)"
      ],
      "metadata": {
        "colab": {
          "base_uri": "https://localhost:8080/"
        },
        "id": "MkOYi1bWcgfJ",
        "outputId": "2a015d81-8146-463c-c432-a6b45026b038"
      },
      "execution_count": null,
      "outputs": [
        {
          "output_type": "stream",
          "name": "stdout",
          "text": [
            "day1    100\n",
            "day2    200\n",
            "dtype: int64\n"
          ]
        }
      ]
    },
    {
      "cell_type": "code",
      "source": [
        "#to create data frame:\n",
        "import pandas as pd\n",
        "\n",
        "data = {\n",
        "  \"calories\": [420, 380, 390],\n",
        "  \"duration\": [50, 40, 45]\n",
        "}\n",
        "\n",
        "#load data into a DataFrame object:\n",
        "df = pd.DataFrame(data)\n",
        "\n",
        "print(df)"
      ],
      "metadata": {
        "colab": {
          "base_uri": "https://localhost:8080/"
        },
        "id": "KSFuhJvKVZgz",
        "outputId": "4f249424-2892-4fe3-f348-2f33df5ecf42"
      },
      "execution_count": null,
      "outputs": [
        {
          "output_type": "stream",
          "name": "stdout",
          "text": [
            "   calories  duration\n",
            "0       420        50\n",
            "1       380        40\n",
            "2       390        45\n"
          ]
        }
      ]
    },
    {
      "cell_type": "code",
      "source": [
        "#return row 0\n",
        "#refer to the row index:\n",
        "print(df.loc[0])"
      ],
      "metadata": {
        "colab": {
          "base_uri": "https://localhost:8080/"
        },
        "id": "OXqS0OSAfJQb",
        "outputId": "cf49b25f-e5fd-404d-a5d1-741c952bc8a1"
      },
      "execution_count": null,
      "outputs": [
        {
          "output_type": "stream",
          "name": "stdout",
          "text": [
            "calories    420\n",
            "duration     50\n",
            "Name: 0, dtype: int64\n"
          ]
        }
      ]
    }
  ]
}